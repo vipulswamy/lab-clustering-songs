{
 "cells": [
  {
   "cell_type": "code",
   "execution_count": null,
   "id": "ae49ff25",
   "metadata": {},
   "outputs": [
    {
     "name": "stdout",
     "output_type": "stream",
     "text": [
      "\n",
      "Please enter a song: toxic\n"
     ]
    },
    {
     "name": "stderr",
     "output_type": "stream",
     "text": [
      "C:\\Users\\Admin\\anaconda3\\lib\\site-packages\\sklearn\\base.py:329: UserWarning: Trying to unpickle estimator KMeans from version 1.1.2 when using version 1.0.2. This might lead to breaking code or invalid results. Use at your own risk. For more info please refer to:\n",
      "https://scikit-learn.org/stable/modules/model_persistence.html#security-maintainability-limitations\n",
      "  warnings.warn(\n"
     ]
    },
    {
     "name": "stdout",
     "output_type": "stream",
     "text": [
      "                         0\n",
      "danceability      1.046035\n",
      "energy            1.056972\n",
      "key              -0.020725\n",
      "loudness          1.339944\n",
      "speechiness       0.855156\n",
      "acousticness     -0.962249\n",
      "instrumentalness -0.190260\n",
      "liveness          0.361560\n",
      "valence           1.264470\n",
      "tempo             0.917977\n",
      "   danceability  energy  key  loudness  mode  speechiness  acousticness  \\\n",
      "0         0.774   0.838    5    -3.914     0        0.114        0.0249   \n",
      "\n",
      "   instrumentalness  liveness  valence   tempo            type  \\\n",
      "0             0.025     0.242    0.924  143.04  audio_features   \n",
      "\n",
      "                       id                                   uri  \\\n",
      "0  6I9VzXrHxO9rA9A5euc8Ak  spotify:track:6I9VzXrHxO9rA9A5euc8Ak   \n",
      "\n",
      "                                          track_href  \\\n",
      "0  https://api.spotify.com/v1/tracks/6I9VzXrHxO9r...   \n",
      "\n",
      "                                        analysis_url  duration_ms  \\\n",
      "0  https://api.spotify.com/v1/audio-analysis/6I9V...       198800   \n",
      "\n",
      "   time_signature  \n",
      "0               4  \n",
      "\n",
      "Recommended:\n",
      "Summertime Blues - Eddie Cochran\n",
      "Mmmbop - Hanson\n",
      "Need You Tonight - INXS\n",
      "\n",
      "Please enter a song: salsa\n"
     ]
    },
    {
     "name": "stderr",
     "output_type": "stream",
     "text": [
      "C:\\Users\\Admin\\anaconda3\\lib\\site-packages\\sklearn\\base.py:329: UserWarning: Trying to unpickle estimator KMeans from version 1.1.2 when using version 1.0.2. This might lead to breaking code or invalid results. Use at your own risk. For more info please refer to:\n",
      "https://scikit-learn.org/stable/modules/model_persistence.html#security-maintainability-limitations\n",
      "  warnings.warn(\n"
     ]
    },
    {
     "name": "stdout",
     "output_type": "stream",
     "text": [
      "                         0\n",
      "danceability      0.536308\n",
      "energy            0.273284\n",
      "key              -1.422125\n",
      "loudness          0.666903\n",
      "speechiness      -0.400835\n",
      "acousticness      0.199873\n",
      "instrumentalness -0.323931\n",
      "liveness         -0.476241\n",
      "valence           0.047877\n",
      "tempo            -0.769732\n",
      "   danceability  energy  key  loudness  mode  speechiness  acousticness  \\\n",
      "0         0.691   0.658    0    -6.496     1       0.0359         0.398   \n",
      "\n",
      "   instrumentalness  liveness  valence  tempo            type  \\\n",
      "0          0.000046     0.112    0.617  97.68  audio_features   \n",
      "\n",
      "                       id                                   uri  \\\n",
      "0  3yEtuhGR8jOtusa29jWrhG  spotify:track:3yEtuhGR8jOtusa29jWrhG   \n",
      "\n",
      "                                          track_href  \\\n",
      "0  https://api.spotify.com/v1/tracks/3yEtuhGR8jOt...   \n",
      "\n",
      "                                        analysis_url  duration_ms  \\\n",
      "0  https://api.spotify.com/v1/audio-analysis/3yEt...       300160   \n",
      "\n",
      "   time_signature  \n",
      "0               4  \n",
      "\n",
      "Recommended:\n",
      "Runaway - Janet Jackson\n",
      "I Still Haven't Found What I'm Looking For - U2\n",
      "Philadelphia Freedom - Elton John\n",
      "\n",
      "Please enter a song: toxic\n"
     ]
    },
    {
     "name": "stderr",
     "output_type": "stream",
     "text": [
      "C:\\Users\\Admin\\anaconda3\\lib\\site-packages\\sklearn\\base.py:329: UserWarning: Trying to unpickle estimator KMeans from version 1.1.2 when using version 1.0.2. This might lead to breaking code or invalid results. Use at your own risk. For more info please refer to:\n",
      "https://scikit-learn.org/stable/modules/model_persistence.html#security-maintainability-limitations\n",
      "  warnings.warn(\n"
     ]
    },
    {
     "name": "stdout",
     "output_type": "stream",
     "text": [
      "                         0\n",
      "danceability      1.046035\n",
      "energy            1.056972\n",
      "key              -0.020725\n",
      "loudness          1.339944\n",
      "speechiness       0.855156\n",
      "acousticness     -0.962249\n",
      "instrumentalness -0.190260\n",
      "liveness          0.361560\n",
      "valence           1.264470\n",
      "tempo             0.917977\n",
      "   danceability  energy  key  loudness  mode  speechiness  acousticness  \\\n",
      "0         0.774   0.838    5    -3.914     0        0.114        0.0249   \n",
      "\n",
      "   instrumentalness  liveness  valence   tempo            type  \\\n",
      "0             0.025     0.242    0.924  143.04  audio_features   \n",
      "\n",
      "                       id                                   uri  \\\n",
      "0  6I9VzXrHxO9rA9A5euc8Ak  spotify:track:6I9VzXrHxO9rA9A5euc8Ak   \n",
      "\n",
      "                                          track_href  \\\n",
      "0  https://api.spotify.com/v1/tracks/6I9VzXrHxO9r...   \n",
      "\n",
      "                                        analysis_url  duration_ms  \\\n",
      "0  https://api.spotify.com/v1/audio-analysis/6I9V...       198800   \n",
      "\n",
      "   time_signature  \n",
      "0               4  \n",
      "\n",
      "Recommended:\n",
      "The Heat is On - Glenn Frey\n",
      "Get Busy - Sean Paul\n",
      "Barbara Ann - The Beach Boys\n"
     ]
    }
   ],
   "source": [
    "from functions import *\n",
    "\n",
    "\n",
    "\n",
    "if __name__ == '__main__':\n",
    "\n",
    "    while True:\n",
    "\n",
    "        try:\n",
    "            song = get_user_song()\n",
    "        except KeyboardInterrupt:\n",
    "            print(\"\\nQuitting ...\\n\")\n",
    "            break\n",
    "\n",
    "        cluster = get_user_song_cluster(song)\n",
    "\n",
    "        if cluster == -1:\n",
    "            continue\n",
    "\n",
    "        #print(f\"\\033[1;32mCluster\\033[0m: {cluster}\")\n",
    "        recommend_song(song, cluster, 3)"
   ]
  },
  {
   "cell_type": "code",
   "execution_count": null,
   "id": "c956f8cc",
   "metadata": {},
   "outputs": [],
   "source": []
  },
  {
   "cell_type": "code",
   "execution_count": null,
   "id": "40d2533f",
   "metadata": {},
   "outputs": [],
   "source": []
  }
 ],
 "metadata": {
  "kernelspec": {
   "display_name": "Python 3 (ipykernel)",
   "language": "python",
   "name": "python3"
  },
  "language_info": {
   "codemirror_mode": {
    "name": "ipython",
    "version": 3
   },
   "file_extension": ".py",
   "mimetype": "text/x-python",
   "name": "python",
   "nbconvert_exporter": "python",
   "pygments_lexer": "ipython3",
   "version": "3.9.12"
  }
 },
 "nbformat": 4,
 "nbformat_minor": 5
}
